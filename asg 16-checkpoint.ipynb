{
 "cells": [
  {
   "cell_type": "code",
   "execution_count": null,
   "id": "1ea0baf5-89ca-495a-bdc9-1d85a2394b62",
   "metadata": {},
   "outputs": [],
   "source": [
    "1. Write a program that asks the user to enter a string. The program should then print the following:\n",
    "(a) The total number of characters in the string\n",
    "(b) The string repeated 10 times\n",
    "(c) The first character of the string (remember that string indices start at 0)\n",
    "(d) The first three\n",
    "characters of the string\n",
    "(e) The last three characters of the string\n",
    "(f) The string backwards\n",
    "(g) The seventh character of the string if the string is long enough and a message otherwise\n",
    "(h) The string with its first and last characters removed\n",
    "(i) The string in all caps\n",
    "(j) The string with every a replaced with an e"
   ]
  },
  {
   "cell_type": "code",
   "execution_count": 8,
   "id": "0c483910-f887-4b87-8881-87a4ed5d9714",
   "metadata": {},
   "outputs": [
    {
     "name": "stdin",
     "output_type": "stream",
     "text": [
      "Enter the string sara fathima\n"
     ]
    },
    {
     "name": "stdout",
     "output_type": "stream",
     "text": [
      " The total number of characters in the string is:12\n",
      " The string repeated 10 times is:sara fathimasara fathimasara fathimasara fathimasara fathimasara fathimasara fathimasara fathimasara fathimasara fathima\n",
      " The first character of the string is:s\n",
      " The first three characters of the string is:sar\n",
      "The last three characters of the string is :ima\n",
      " The string backwards is:amihtaf aras\n",
      " The seventh character of the string is :h\n",
      "The string with its first and last characters removed is:ara fathim\n",
      "The string in all caps is :SARA FATHIMA\n",
      "e\n"
     ]
    }
   ],
   "source": [
    "str=input(\"Enter the string\")\n",
    "n=len(str)\n",
    "print(f\" The total number of characters in the string is:{n}\")\n",
    "print(f\" The string repeated 10 times is:{str*10}\")\n",
    "print(f\" The first character of the string is:{str[0]}\")\n",
    "print(f\" The first three characters of the string is:{str[0:3]}\")\n",
    "print(f\"The last three characters of the string is :{str[-3:n]}\")\n",
    "print(f\" The string backwards is:{str[::-1]}\")\n",
    "if n>=7:\n",
    "    print(f\" The seventh character of the string is :{str[8]}\")\n",
    "else:\n",
    "    print(f\"the len of the string is less than 7\")\n",
    "print(f\"The string with its first and last characters removed is:{str[1:n-1]}\")\n",
    "print(f\"The string in all caps is :{str.upper()}\")\n",
    "replaced_str=\" \"\n",
    "for i in str:\n",
    "    if i==\"a\":\n",
    "        replaced_str='e'\n",
    "    else:\n",
    "        replaced_str=i\n",
    "print(replaced_str)\n",
    "        "
   ]
  },
  {
   "cell_type": "code",
   "execution_count": null,
   "id": "1a994629-2bcb-4020-9266-f1c64f4ba228",
   "metadata": {},
   "outputs": [],
   "source": [
    "2. A simple way to estimate the number of words in a string is to count the number of spaces in the\n",
    "string. Write a program that asks the user for a string and returns an estimate of how many words\n",
    "are in the string.\n",
    "Tip: You need to count the number of words using spaces"
   ]
  },
  {
   "cell_type": "code",
   "execution_count": 16,
   "id": "defce842-0932-4dd3-92aa-36e08a5b27cb",
   "metadata": {},
   "outputs": [
    {
     "name": "stdin",
     "output_type": "stream",
     "text": [
      "enter the string hi cuti pie\n"
     ]
    },
    {
     "name": "stdout",
     "output_type": "stream",
     "text": [
      "the numbers of words in given stris 3\n"
     ]
    }
   ],
   "source": [
    "str=input(\"enter the string\")\n",
    "count=0\n",
    "s2=\" \"\n",
    "for i in str:\n",
    "    if i==\" \":\n",
    "        count=count+1\n",
    "        s2=\" \"\n",
    "    else:\n",
    "        s2+=i\n",
    "print(f\"the numbers of words in given stris {count+1}\")"
   ]
  },
  {
   "cell_type": "code",
   "execution_count": null,
   "id": "4a1d37f0-5080-49eb-8fc5-778128dcd4d7",
   "metadata": {},
   "outputs": [],
   "source": []
  }
 ],
 "metadata": {
  "kernelspec": {
   "display_name": "Python 3 (ipykernel)",
   "language": "python",
   "name": "python3"
  },
  "language_info": {
   "codemirror_mode": {
    "name": "ipython",
    "version": 3
   },
   "file_extension": ".py",
   "mimetype": "text/x-python",
   "name": "python",
   "nbconvert_exporter": "python",
   "pygments_lexer": "ipython3",
   "version": "3.11.7"
  }
 },
 "nbformat": 4,
 "nbformat_minor": 5
}
