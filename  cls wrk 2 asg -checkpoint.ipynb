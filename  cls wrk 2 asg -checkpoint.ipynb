{
 "cells": [
  {
   "cell_type": "code",
   "execution_count": null,
   "id": "f9d06908-1c1b-42ea-9185-bf32327d528d",
   "metadata": {},
   "outputs": [],
   "source": [
    "# Assignment-5: Functions  with out  argumennts\n"
   ]
  },
  {
   "cell_type": "code",
   "execution_count": 4,
   "id": "92970f1c-6773-410a-830a-1ac7901a7ab4",
   "metadata": {
    "scrolled": true
   },
   "outputs": [
    {
     "name": "stdin",
     "output_type": "stream",
     "text": [
      "enter the num1: 50\n",
      "enter the num2: 60\n",
      "enter the num3: 70\n"
     ]
    },
    {
     "name": "stdout",
     "output_type": "stream",
     "text": [
      "the avg is 60.0\n"
     ]
    }
   ],
   "source": [
    "# 1 # wap ask the user enter 3 numbers calculate average\n",
    "def average():\n",
    "    num1=eval(input(\"enter the num1:\"))\n",
    "    num2=eval(input(\"enter the num2:\"))\n",
    "    num3=eval(input(\"enter the num3:\"))\n",
    "    avg=(num1+num2+num3)/3\n",
    "    avg1=round(avg,2)\n",
    "    print(f\"the avg is {avg}\")\n",
    "average()\n"
   ]
  },
  {
   "cell_type": "code",
   "execution_count": 8,
   "id": "14256852-8a07-4caf-a69f-f09bd640b62f",
   "metadata": {},
   "outputs": [
    {
     "name": "stdin",
     "output_type": "stream",
     "text": [
      "enter the radius value 25\n",
      "enter pi value 3.142\n",
      "pi*radius*radius 1963.75\n"
     ]
    },
    {
     "name": "stdout",
     "output_type": "stream",
     "text": [
      "the area of the circle is 1963.75\n"
     ]
    }
   ],
   "source": [
    "#  2 # wap ask the uer enter radius values find the area of the circle\n",
    "def area():\n",
    "    radius=eval(input(\"enter the radius value\"))\n",
    "    pi=eval(input(\"enter pi value\"))\n",
    "    #area=pi*radius*radius\n",
    "    area=eval(input(\"pi*radius*radius\"))\n",
    "    print(f\"the area of the circle is {area}\")\n",
    "area()"
   ]
  },
  {
   "cell_type": "code",
   "execution_count": 15,
   "id": "e58e3e8e-1758-479c-8e2d-16662d77499d",
   "metadata": {},
   "outputs": [
    {
     "name": "stdin",
     "output_type": "stream",
     "text": [
      "enter the tip present 0.15\n",
      "enter the metal_price 2000\n",
      "metal_price*tip_presentage 300\n"
     ]
    },
    {
     "name": "stdout",
     "output_type": "stream",
     "text": [
      "the total_bill is 300\n"
     ]
    }
   ],
   "source": [
    "# 3 # wap ask the user bill amount,\n",
    "#     ask the user how much tip you want pay in percentage\n",
    "#     calculate totalbill\n",
    "# price of metal=2000\n",
    "#present of the tip=15%=15%100=0.15\n",
    "# total bill=total_bill*tip_presentage\n",
    "def total_bill():\n",
    "    tip_presentage=eval(input(\"enter the tip present\"))\n",
    "    price_metal=eval(input(\"enter the metal_price\"))\n",
    "    total_bill=eval(input(\"metal_price*tip_presentage\"))\n",
    "    print(f\"the total_bill is {total_bill}\")\n",
    "total_bill()\n"
   ]
  },
  {
   "cell_type": "code",
   "execution_count": 22,
   "id": "809869d5-b19c-4893-b61f-176bd2bc488e",
   "metadata": {},
   "outputs": [
    {
     "name": "stdin",
     "output_type": "stream",
     "text": [
      " enter the height value 25\n",
      "enter the base value 15\n"
     ]
    },
    {
     "name": "stdout",
     "output_type": "stream",
     "text": [
      " the area of triangle is 187.5\n"
     ]
    }
   ],
   "source": [
    "# 4 #wap ask the user enter base height calculate area of the traingle\n",
    "def area():\n",
    "    height=eval(input(\" enter the height value\"))\n",
    "    base=eval(input(\"enter the base value\"))\n",
    "    area=1/2*height*base\n",
    "    print(f\" the area of triangle is {area}\")\n",
    "area()"
   ]
  },
  {
   "cell_type": "code",
   "execution_count": 21,
   "id": "ae0f54b2-d7c7-45eb-9aa7-560a74997d06",
   "metadata": {},
   "outputs": [
    {
     "name": "stdin",
     "output_type": "stream",
     "text": [
      "enter the lenght value 15\n",
      "enter the breath value 20\n"
     ]
    },
    {
     "name": "stdout",
     "output_type": "stream",
     "text": [
      " the area of triangle is 300\n"
     ]
    }
   ],
   "source": [
    "# 5 #wap ask the user enter length and breadth calculate area of the rectangle\n",
    "def area():\n",
    "    length=eval(input(\"enter the lenght value\"))\n",
    "    breadth=eval(input(\"enter the breath value\"))\n",
    "    area=length*breadth\n",
    "    print(f\" the area of triangle is {area}\")\n",
    "area()"
   ]
  },
  {
   "cell_type": "code",
   "execution_count": 43,
   "id": "1c0a364a-d296-4260-b978-9a01a8f1339d",
   "metadata": {},
   "outputs": [
    {
     "name": "stdin",
     "output_type": "stream",
     "text": [
      "enter the number: 5\n"
     ]
    },
    {
     "name": "stdout",
     "output_type": "stream",
     "text": [
      "the 5 is odd\n"
     ]
    }
   ],
   "source": [
    "# 6 ## wap ask the user enter a number\n",
    "# find it is a even number or odd number\n",
    "def num():\n",
    "    num=eval(input(\"enter the number:\"))\n",
    "    if num%2==0:\n",
    "        print(f\"the{num} is even\")\n",
    "    else:\n",
    "       print(f\"the {num} is odd\")\n",
    "num()"
   ]
  },
  {
   "cell_type": "code",
   "execution_count": 59,
   "id": "a237a309-b9e4-43d7-bca1-65ea2b8a465c",
   "metadata": {},
   "outputs": [
    {
     "name": "stdin",
     "output_type": "stream",
     "text": [
      "enter the distance in km: 45\n",
      "enter the charges in rs: 100\n"
     ]
    },
    {
     "name": "stdout",
     "output_type": "stream",
     "text": [
      "the total charges is : 4500\n"
     ]
    }
   ],
   "source": [
    "#7 ## wap ask the user enter the distance\n",
    "# if distance greater than 25km\n",
    "#      then enter the charge\n",
    "#      print the total cost\n",
    "#otherwise\n",
    "#      print free ride\n",
    "def cost():\n",
    "    distance=eval(input(\"enter the distance in km:\"))\n",
    "    if distance>25:\n",
    "        charges=eval(input(\"enter the charges in rs:\"))\n",
    "        cost=distance*charges\n",
    "        print(\"the total charges is :\",cost)\n",
    "    else:\n",
    "        print(\"enjoy the free ride\")\n",
    "cost()"
   ]
  },
  {
   "cell_type": "code",
   "execution_count": 66,
   "id": "22a15141-534a-4dc1-8b9b-e7dc5e7db0fc",
   "metadata": {},
   "outputs": [
    {
     "name": "stdin",
     "output_type": "stream",
     "text": [
      "enter the start value: 10\n",
      "enter the end value: 20\n"
     ]
    },
    {
     "name": "stdout",
     "output_type": "stream",
     "text": [
      "the11is odd\n"
     ]
    }
   ],
   "source": [
    "#8 # Implement the above problem by taking a random input  between  1, 100\n",
    "def num():\n",
    "    import random\n",
    "    start=eval(input(\"enter the start value:\"))\n",
    "    end=eval(input(\"enter the end value:\"))\n",
    "    num=random.randint(start,end)\n",
    "    if num%2==0:\n",
    "        print(f\"the{num} is even\")\n",
    "    else:\n",
    "        print(f\"the{num}is odd\")\n",
    "num()"
   ]
  },
  {
   "cell_type": "code",
   "execution_count": 4,
   "id": "7f787bf3-4eec-4262-83fc-3817f807f06d",
   "metadata": {},
   "outputs": [
    {
     "name": "stdin",
     "output_type": "stream",
     "text": [
      "enter the distance in km: 30\n",
      "enter the charges in rs: 50\n"
     ]
    },
    {
     "name": "stdout",
     "output_type": "stream",
     "text": [
      "the total charges is : 1500\n"
     ]
    }
   ],
   "source": [
    "# 9 # wap ask the user enter the distance\n",
    "# if distance greater than 25km\n",
    "#      then enter the charge\n",
    "#      print the total cost\n",
    "#otherwise\n",
    "#      print free ride\n",
    "def  total_cost():\n",
    "    distance=eval(input(\"enter the distance in km:\"))\n",
    "    if distance>25:\n",
    "        charges=eval(input(\"enter the charges in rs:\"))\n",
    "        cost=distance*charges\n",
    "        print(\"the total charges is :\",cost)\n",
    "    else:\n",
    "        print(\"enjoy the free ride\")\n",
    "total_cost()"
   ]
  },
  {
   "cell_type": "code",
   "execution_count": 8,
   "id": "114980d8-95fe-48ec-b396-4f10cd51141c",
   "metadata": {},
   "outputs": [
    {
     "name": "stdin",
     "output_type": "stream",
     "text": [
      "enter the distance in km: 30\n",
      "enter the cutoff_distance in km: 25\n"
     ]
    },
    {
     "name": "stdout",
     "output_type": "stream",
     "text": [
      "sara to you the chargeble distance is: 5\n"
     ]
    },
    {
     "name": "stdin",
     "output_type": "stream",
     "text": [
      "enter the charge in rs 50\n"
     ]
    },
    {
     "name": "stdout",
     "output_type": "stream",
     "text": [
      "the total cost is : 250\n"
     ]
    }
   ],
   "source": [
    "# wap ask the user enter the distance\n",
    "# cutoff distance enter 25\n",
    "# if distance greater than 25km\n",
    "#      print(\"good news your charge is aplicable for only remaining of 25\")\n",
    "#      chargeble distance= distance-cutoff\n",
    "#      then enter the charge\n",
    "#      print the total cost\n",
    "#otherwise\n",
    "#      print free ride\n",
    "def total_cost():\n",
    "    distance=eval(input(\"enter the distance in km:\"))\n",
    "    \n",
    "    cutoff_distance=eval(input(\"enter the cutoff_distance in km:\"))\n",
    "    if  distance>cutoff_distance:\n",
    "        chargeble_distance=distance-cutoff_distance\n",
    "        print(\"sara to you the chargeble distance is:\",chargeble_distance)\n",
    "        charge=eval(input(\"enter the charge in rs\"))\n",
    "        cost=chargeble_distance*charge\n",
    "        print(\"the total cost is :\",cost)\n",
    "    else:\n",
    "        print(\"enjoy the free ride\")\n",
    "total_cost()"
   ]
  },
  {
   "cell_type": "code",
   "execution_count": 13,
   "id": "6192e315-5ce9-41e7-8331-c0b1241e5860",
   "metadata": {},
   "outputs": [
    {
     "name": "stdin",
     "output_type": "stream",
     "text": [
      "enter the cource: data science\n",
      "enter the institute: it naresh\n"
     ]
    },
    {
     "name": "stdout",
     "output_type": "stream",
     "text": [
      "it is bad\n"
     ]
    }
   ],
   "source": [
    "#7\n",
    "# wap ask the user enter the course\n",
    "# ask the user enter the Institute\n",
    "# if the course equal to data science and institute equal to naresh it\n",
    "#     then you are good\n",
    "# otherwise\n",
    "#     you are bad\n",
    "def good():\n",
    "    course=input(\"enter the cource:\")\n",
    "    institute=input(\"enter the institute:\")\n",
    "    if course=='data science' and institute=='naresh it':\n",
    "        print(\"it is good\")\n",
    "    else:\n",
    "        print(\"it is bad\")\n",
    "good()\n",
    "\n",
    "\n",
    "    \n",
    "\n",
    "    \n",
    "    \n"
   ]
  },
  {
   "cell_type": "code",
   "execution_count": 15,
   "id": "8b2a7a1a-2b68-4248-bc39-4f2fc823805e",
   "metadata": {},
   "outputs": [
    {
     "name": "stdin",
     "output_type": "stream",
     "text": [
      "enter the num2 20\n"
     ]
    },
    {
     "name": "stdout",
     "output_type": "stream",
     "text": [
      "you lost\n"
     ]
    }
   ],
   "source": [
    "#8\n",
    "# wap ask the user enter a random number between 1 to 10, treat this as number1\n",
    "# ask the user enter another number from keyboard, treat this as number2\n",
    "# if number1 equal to number2\n",
    "#     print you won\n",
    "# otherwise\n",
    "#     print you lost\n",
    "def won():\n",
    "    import random\n",
    "    \n",
    "    num1=random.randint(1,10)\n",
    "    num2=eval(input(\"enter the num2\"))\n",
    "    if num1==num2:\n",
    "        print(\"you won\")\n",
    "    else:\n",
    "        print(\"you lost\")\n",
    "won()"
   ]
  },
  {
   "cell_type": "code",
   "execution_count": 17,
   "id": "0e830627-615c-48ec-bb5a-ba79fe95ffde",
   "metadata": {},
   "outputs": [
    {
     "name": "stdin",
     "output_type": "stream",
     "text": [
      "enter the number 3\n"
     ]
    },
    {
     "name": "stdout",
     "output_type": "stream",
     "text": [
      "three\n"
     ]
    }
   ],
   "source": [
    "#9\n",
    "# wap ask the user enter number\n",
    "# if number equal to 1 then print one\n",
    "# if number equal to 2 then print two\n",
    "# if number equal to 3 then print three\n",
    "# otherwise  print enter a valid number\n",
    "def valid_number():\n",
    "    num=eval(input(\"enter the number\"))\n",
    "    if num==1:\n",
    "            print(\"one\")\n",
    "    elif num==2:\n",
    "            print(\"two\")\n",
    "    elif num==3:\n",
    "           print(\"three\")\n",
    "    else:\n",
    "        print(\"enter the valid number\")\n",
    "valid_number()"
   ]
  },
  {
   "cell_type": "code",
   "execution_count": 18,
   "id": "bcaf6f31-3cd7-42ca-ae41-018663f42196",
   "metadata": {},
   "outputs": [
    {
     "name": "stdin",
     "output_type": "stream",
     "text": [
      "enter the num 2\n"
     ]
    },
    {
     "name": "stdout",
     "output_type": "stream",
     "text": [
      "positive\n"
     ]
    }
   ],
   "source": [
    "#10\n",
    "# wap ask the user enter a number\n",
    "# if that number greater than zero print postive\n",
    "# if that number less than zero print negative\n",
    "# otherwise print zero\n",
    "def num():\n",
    "    num1=eval(input(\"enter the num\"))\n",
    "    if num1>0:\n",
    "        print(\"positive\")\n",
    "    elif num1<0:\n",
    "        print(\"negative\")\n",
    "    else:\n",
    "        print(\"zero\")\n",
    "num()"
   ]
  },
  {
   "cell_type": "code",
   "execution_count": 19,
   "id": "7b699e69-3bc1-4349-9ef2-d30fecf9b63e",
   "metadata": {},
   "outputs": [
    {
     "name": "stdin",
     "output_type": "stream",
     "text": [
      "enter the  percentage 75\n"
     ]
    },
    {
     "name": "stdout",
     "output_type": "stream",
     "text": [
      "b grade\n"
     ]
    }
   ],
   "source": [
    "#11\n",
    "# WAP ask the user enter the percentage of marks 0 to 100\n",
    "# if percentagw gretaer than 90  print A garde\n",
    "# if percentage between 75 to 90 print B garde\n",
    "# if percentage between 50 to 75 print C grade\n",
    "# if percentage between 35 to 50 print D grade\n",
    "# if percentage less than 35 print Fail\n",
    "def percentage():\n",
    "    percentage=eval(input(\"enter the  percentage\"))\n",
    "    if percentage>=90:\n",
    "        print(\"a grade\")\n",
    "    elif percentage>=75:\n",
    "        print(\"b grade\")\n",
    "    elif percentage>=75:\n",
    "        print(\"c grade\")\n",
    "    elif percentage>=35:\n",
    "        print(\"d grade\")\n",
    "    else:\n",
    "        print(\"fail\")\n",
    "percentage()\n",
    "\n",
    "    "
   ]
  },
  {
   "cell_type": "code",
   "execution_count": 20,
   "id": "320f9b25-9b83-4b72-b0d4-50238a6b69f3",
   "metadata": {},
   "outputs": [
    {
     "name": "stdin",
     "output_type": "stream",
     "text": [
      " enter the age 24\n"
     ]
    },
    {
     "name": "stdout",
     "output_type": "stream",
     "text": [
      "young age\n"
     ]
    }
   ],
   "source": [
    "#12\n",
    "# WAP ask the user enter the age\n",
    "# if the age greater tahn 100 print you are lucky\n",
    "# if the age gretaer than 75 print old age\n",
    "# if the age  between 50 to 75 print ss\n",
    "# if the age between  30 tp 50 print MA\n",
    "# if the age between  15 to 30 print young age\n",
    "# if the afe between less than 15 print kid\n",
    "def age():\n",
    "    age=eval(input(\" enter the age\"))\n",
    "    if (age>=100):\n",
    "        print(\" you are lucky\")\n",
    "    elif (age>=75):\n",
    "        print (\"your old\")\n",
    "    elif (age>=50):\n",
    "        print(\" your ss\")\n",
    "    elif (age>=30):\n",
    "        print(\"your ma\")\n",
    "    elif (age>=15):\n",
    "        print(\"young age\")\n",
    "    else:\n",
    "        print(\"kid\")\n",
    "age()"
   ]
  },
  {
   "cell_type": "code",
   "execution_count": 22,
   "id": "dda2abf8-8dff-4442-acbf-ca1765accdfb",
   "metadata": {},
   "outputs": [
    {
     "name": "stdout",
     "output_type": "stream",
     "text": [
      "the avg is 20.0\n"
     ]
    }
   ],
   "source": [
    "# with arguments##\n",
    "# 1 # wap ask the user enter 3 numbers calculate average\n",
    "def average(num1,num2,num3):\n",
    "    avg=(num1+num2+num3)/3\n",
    "    avg1=round(avg,2)\n",
    "    print(f\"the avg is {avg}\")\n",
    "average(10,20,30)\n"
   ]
  },
  {
   "cell_type": "code",
   "execution_count": 23,
   "id": "e40514ea-4331-4622-a46f-7a6e7674bf78",
   "metadata": {},
   "outputs": [
    {
     "name": "stdin",
     "output_type": "stream",
     "text": [
      "pi*radius*radius 1963.75\n"
     ]
    },
    {
     "name": "stdout",
     "output_type": "stream",
     "text": [
      "the area of the circle is 1963.75\n"
     ]
    }
   ],
   "source": [
    "#  2 # wap ask the uer enter radius values find the area of the circle\n",
    "def area(radius,pi):\n",
    "    #area=pi*radius*radius\n",
    "    area=eval(input(\"pi*radius*radius\"))\n",
    "    print(f\"the area of the circle is {area}\")\n",
    "area(25,3.142)"
   ]
  },
  {
   "cell_type": "code",
   "execution_count": 24,
   "id": "62c1f783-04ea-4fa3-9e71-d3f5f995aa51",
   "metadata": {},
   "outputs": [
    {
     "name": "stdout",
     "output_type": "stream",
     "text": [
      "the total bill is : 4500.0\n"
     ]
    }
   ],
   "source": [
    "# 3 # wap ask the user bill amount,\n",
    "#     ask the user how much tip you want pay in percentage\n",
    "#     calculate totalbill\n",
    "# price of metal=2000\n",
    "#present of the tip=15%=15%100=0.15\n",
    "# total bill=total_bill*tip_presentage\n",
    "def bill_pay(bill,tip_per):\n",
    "     tip_amount=bill*tip_per/100\n",
    "     total_bill=bill+tip_amount\n",
    "     print(\"the total bill is :\",total_bill)\n",
    "bill_pay(3000,50)  \n"
   ]
  },
  {
   "cell_type": "code",
   "execution_count": 25,
   "id": "db69293e-7ba7-4daf-ab5a-17dbad7f0da1",
   "metadata": {},
   "outputs": [
    {
     "name": "stdout",
     "output_type": "stream",
     "text": [
      " the area of triangle is 300.0\n"
     ]
    }
   ],
   "source": [
    "# 4 #wap ask the user enter base height calculate area of the traingle\n",
    "def area(height,base):\n",
    "    area=1/2*height*base\n",
    "    print(f\" the area of triangle is {area}\")\n",
    "area(20,30)"
   ]
  },
  {
   "cell_type": "code",
   "execution_count": 32,
   "id": "2f11e769-1c2a-4664-8daa-f0f98cd40feb",
   "metadata": {},
   "outputs": [
    {
     "name": "stdout",
     "output_type": "stream",
     "text": [
      "the 5 is odd\n"
     ]
    }
   ],
   "source": [
    "# 6 ## wap ask the user enter a number\n",
    "# find it is a even number or odd number\n",
    "def num(num):\n",
    "    if num%2==0:\n",
    "        print(f\"the{num} is even\")\n",
    "    else:\n",
    "       print(f\"the {num} is odd\")\n",
    "num(5)"
   ]
  },
  {
   "cell_type": "code",
   "execution_count": 2,
   "id": "28c08332-3ea1-4871-a78b-4f268416a7fa",
   "metadata": {},
   "outputs": [
    {
     "name": "stdout",
     "output_type": "stream",
     "text": [
      "the total charges is : 1500\n"
     ]
    }
   ],
   "source": [
    "#7 ## wap ask the user enter the distance\n",
    "# if distance greater than 25km\n",
    "#      then enter the charge\n",
    "#      print the total cost\n",
    "#otherwise\n",
    "#      print free ride\n",
    "def cost(distance, charges):\n",
    "    if  distance>25:\n",
    "        cost=distance*charges\n",
    "        print(\"the total charges is :\",cost)\n",
    "    else:\n",
    "        print(\"enjoy the free ride\")\n",
    "cost(30,50)"
   ]
  },
  {
   "cell_type": "code",
   "execution_count": 5,
   "id": "bc7c6409-938c-4d65-85c3-2129723772f0",
   "metadata": {},
   "outputs": [
    {
     "name": "stdout",
     "output_type": "stream",
     "text": [
      " the area of triangle is 800\n"
     ]
    }
   ],
   "source": [
    "# 5 #wap ask the user enter length and breadth calculate area of the rectangle\n",
    "def area(length,breadth):\n",
    "    area=length*breadth\n",
    "    print(f\" the area of triangle is {area}\")\n",
    "area(40,20)"
   ]
  },
  {
   "cell_type": "code",
   "execution_count": 6,
   "id": "30d58528-68c3-4083-8d10-e742b863bb79",
   "metadata": {},
   "outputs": [
    {
     "name": "stdout",
     "output_type": "stream",
     "text": [
      "the27is odd\n"
     ]
    }
   ],
   "source": [
    "\n",
    "    \n",
    "#8 # Implement the above problem by taking a random input  between  1, 100\n",
    "def num(start,end):\n",
    "    import random\n",
    "    num=random.randint(start,end)\n",
    "    if num%2==0:\n",
    "        print(f\"the{num} is even\")\n",
    "    else:\n",
    "        print(f\"the{num}is odd\")\n",
    "num(20,30)"
   ]
  },
  {
   "cell_type": "code",
   "execution_count": 8,
   "id": "773003ba-c2e9-4d75-931b-a2520450e96c",
   "metadata": {},
   "outputs": [
    {
     "name": "stdout",
     "output_type": "stream",
     "text": [
      "the total charges is : 1500\n"
     ]
    }
   ],
   "source": [
    "# 9 # wap ask the user enter the distance\n",
    "# if distance greater than 25km\n",
    "#      then enter the charge\n",
    "#      print the total cost\n",
    "#otherwise\n",
    "#      print free ride\n",
    "def  total_cost(distance,charges):\n",
    "    if distance>25:\n",
    "        cost=distance*charges\n",
    "        print(\"the total charges is :\",cost)\n",
    "    else:\n",
    "        print(\"enjoy the free ride\")\n",
    "total_cost(30,50)"
   ]
  },
  {
   "cell_type": "code",
   "execution_count": 21,
   "id": "4b0225a4-2dfb-497f-aaff-c8f975b57935",
   "metadata": {},
   "outputs": [
    {
     "name": "stdout",
     "output_type": "stream",
     "text": [
      "it is good\n"
     ]
    }
   ],
   "source": [
    "#7\n",
    "# wap ask the user enter the course\n",
    "# ask the user enter the Institute\n",
    "# if the course equal to data science and institute equal to naresh it\n",
    "#     then you are good\n",
    "# otherwise\n",
    "#     you are bad\n",
    "def good(course,institute):\n",
    "    if course=='data science' and institute=='naresh it':\n",
    "        print(\"it is good\")\n",
    "    else:\n",
    "        print(\"it is bad\")\n",
    "good('data science','naresh it')\n"
   ]
  },
  {
   "cell_type": "code",
   "execution_count": 22,
   "id": "5c786ec4-3fd6-4190-8efa-4332b2b28248",
   "metadata": {},
   "outputs": [
    {
     "name": "stdout",
     "output_type": "stream",
     "text": [
      "sara to you the chargeble distance is: 5\n"
     ]
    },
    {
     "name": "stdin",
     "output_type": "stream",
     "text": [
      "enter the charge in rs 100\n"
     ]
    },
    {
     "name": "stdout",
     "output_type": "stream",
     "text": [
      "the total cost is : 500\n"
     ]
    }
   ],
   "source": [
    "# wap ask the user enter the distance\n",
    "# cutoff distance enter 25\n",
    "# if distance greater than 25km\n",
    "#      print(\"good news your charge is aplicable for only remaining of 25\")\n",
    "#      chargeble distance= distance-cutoff\n",
    "#      then enter the charge\n",
    "#      print the total cost\n",
    "#otherwise\n",
    "#      print free ride\n",
    "def total_cost(distance,cutoff_distance):\n",
    "    \n",
    "    if  distance>cutoff_distance:\n",
    "        chargeble_distance=distance-cutoff_distance\n",
    "        print(\"sara to you the chargeble distance is:\",chargeble_distance)\n",
    "        charge=eval(input(\"enter the charge in rs\"))\n",
    "        cost=chargeble_distance*charge\n",
    "        print(\"the total cost is :\",cost)\n",
    "    else:\n",
    "        print(\"enjoy the free ride\")\n",
    "total_cost(30,25)"
   ]
  },
  {
   "cell_type": "code",
   "execution_count": 23,
   "id": "4487ea65-bb2e-445a-a370-4cb368d1f3ba",
   "metadata": {},
   "outputs": [
    {
     "name": "stdout",
     "output_type": "stream",
     "text": [
      "you lost\n"
     ]
    }
   ],
   "source": [
    "#8\n",
    "# wap ask the user enter a random number between 1 to 10, treat this as number1\n",
    "# ask the user enter another number from keyboard, treat this as number2\n",
    "# if number1 equal to number2\n",
    "#     print you won\n",
    "# otherwise\n",
    "#     print you lost\n",
    "def won(num2):\n",
    "    import random\n",
    "    \n",
    "    num1=random.randint(1,10)\n",
    "    if num1==num2:\n",
    "        print(\"you won\")\n",
    "    else:\n",
    "        print(\"you lost\")\n",
    "won(20)"
   ]
  },
  {
   "cell_type": "code",
   "execution_count": 24,
   "id": "2241bdd3-d3e3-42f0-b0b6-0cfda3ed9dc2",
   "metadata": {},
   "outputs": [
    {
     "name": "stdout",
     "output_type": "stream",
     "text": [
      "three\n"
     ]
    }
   ],
   "source": [
    "#9\n",
    "# wap ask the user enter number\n",
    "# if number equal to 1 then print one\n",
    "# if number equal to 2 then print two\n",
    "# if number equal to 3 then print three\n",
    "# otherwise  print enter a valid number\n",
    "def valid_number(num):\n",
    "    if num==1:\n",
    "            print(\"one\")\n",
    "    elif num==2:\n",
    "            print(\"two\")\n",
    "    elif num==3:\n",
    "           print(\"three\")\n",
    "    else:\n",
    "        print(\"enter the valid number\")\n",
    "valid_number(3)"
   ]
  },
  {
   "cell_type": "code",
   "execution_count": 26,
   "id": "bfda18fd-2d9c-431a-b3ef-3f320eb4d88b",
   "metadata": {},
   "outputs": [
    {
     "name": "stdout",
     "output_type": "stream",
     "text": [
      "positive\n"
     ]
    }
   ],
   "source": [
    "#10\n",
    "# wap ask the user enter a number\n",
    "# if that number greater than zero print postive\n",
    "# if that number less than zero print negative\n",
    "# otherwise print zero\n",
    "def num(num1):\n",
    "    if num1>0:\n",
    "        print(\"positive\")\n",
    "    elif num1<0:\n",
    "        print(\"negative\")\n",
    "    else:\n",
    "        print(\"zero\")\n",
    "num(3)"
   ]
  },
  {
   "cell_type": "code",
   "execution_count": 27,
   "id": "08d5371b-0349-4a41-82f6-b92d2f331094",
   "metadata": {},
   "outputs": [
    {
     "name": "stdout",
     "output_type": "stream",
     "text": [
      "b grade\n"
     ]
    }
   ],
   "source": [
    "#11\n",
    "# WAP ask the user enter the percentage of marks 0 to 100\n",
    "# if percentagw gretaer than 90  print A garde\n",
    "# if percentage between 75 to 90 print B garde\n",
    "# if percentage between 50 to 75 print C grade\n",
    "# if percentage between 35 to 50 print D grade\n",
    "# if percentage less than 35 print Fail\n",
    "def percentage(percentage):\n",
    "    if percentage>=90:\n",
    "        print(\"a grade\")\n",
    "    elif percentage>=75:\n",
    "        print(\"b grade\")\n",
    "    elif percentage>=75:\n",
    "        print(\"c grade\")\n",
    "    elif percentage>=35:\n",
    "        print(\"d grade\")\n",
    "    else:\n",
    "        print(\"fail\")\n",
    "percentage(80)\n"
   ]
  },
  {
   "cell_type": "code",
   "execution_count": 28,
   "id": "f548cbcd-5584-4813-bb7a-6f11c59ba2e8",
   "metadata": {},
   "outputs": [
    {
     "name": "stdout",
     "output_type": "stream",
     "text": [
      "your old\n"
     ]
    }
   ],
   "source": [
    "#12\n",
    "# WAP ask the user enter the age\n",
    "# if the age greater tahn 100 print you are lucky\n",
    "# if the age gretaer than 75 print old age\n",
    "# if the age  between 50 to 75 print ss\n",
    "# if the age between  30 tp 50 print MA\n",
    "# if the age between  15 to 30 print young age\n",
    "# if the afe between less than 15 print kid\n",
    "def age(age):\n",
    "    if (age>=100):\n",
    "        print(\" you are lucky\")\n",
    "    elif (age>=75):\n",
    "        print (\"your old\")\n",
    "    elif (age>=50):\n",
    "        print(\" your ss\")\n",
    "    elif (age>=30):\n",
    "        print(\"your ma\")\n",
    "    elif (age>=15):\n",
    "        print(\"young age\")\n",
    "    else:\n",
    "        print(\"kid\")\n",
    "age(85)"
   ]
  },
  {
   "cell_type": "code",
   "execution_count": null,
   "id": "6b642ece-f777-44f4-b98c-39fe1cee5ca5",
   "metadata": {},
   "outputs": [],
   "source": []
  }
 ],
 "metadata": {
  "kernelspec": {
   "display_name": "Python 3 (ipykernel)",
   "language": "python",
   "name": "python3"
  },
  "language_info": {
   "codemirror_mode": {
    "name": "ipython",
    "version": 3
   },
   "file_extension": ".py",
   "mimetype": "text/x-python",
   "name": "python",
   "nbconvert_exporter": "python",
   "pygments_lexer": "ipython3",
   "version": "3.11.7"
  }
 },
 "nbformat": 4,
 "nbformat_minor": 5
}
