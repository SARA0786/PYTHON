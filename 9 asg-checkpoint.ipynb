{
 "cells": [
  {
   "cell_type": "code",
   "execution_count": 6,
   "id": "dd1412f8-7204-4583-9fc5-7d672a85be0b",
   "metadata": {},
   "outputs": [
    {
     "name": "stdin",
     "output_type": "stream",
     "text": [
      "enter the length in centimeters 2.54\n"
     ]
    },
    {
     "name": "stdout",
     "output_type": "stream",
     "text": [
      "the length in cm:2.54, converting in inches :1.0\n"
     ]
    }
   ],
   "source": [
    "#### Problem-1(Use conditional statements)\n",
    "#Write a program that asks the user to enter a length in centimetres. If the user enters\n",
    "#a negative length, the program should tell the user that the entry is invalid. Otherwise,\n",
    "#the program should convert the length to inches and print out the result. There are\n",
    "#2.54 centimetres in an inch.\n",
    "l1=eval(input(\"enter the length in centimeters\"))\n",
    "if l1==0:\n",
    "    print(\"invalid\")\n",
    "elif l1>=1:\n",
    "    l2=round(l1/2.54,2)\n",
    "    #formula of converting length into inches\n",
    "    print(f\"the length in cm:{l1}, converting in inches :{l2}\")\n",
    "else:\n",
    "    print(\"out of the result\")\n",
    "    "
   ]
  },
  {
   "cell_type": "code",
   "execution_count": 23,
   "id": "c5c385f4-7d8f-4d21-8303-c75e08569a25",
   "metadata": {},
   "outputs": [
    {
     "name": "stdin",
     "output_type": "stream",
     "text": [
      "enter the temerature: 70\n",
      "enter the units (C or F): F\n"
     ]
    },
    {
     "name": "stdout",
     "output_type": "stream",
     "text": [
      "temperature in celcius is :21.11111111111111\n"
     ]
    }
   ],
   "source": [
    "#### Problem-2(Use conditional statements)\n",
    "#Ask the user for a temperature. Then ask them what units, Celsius or Fahrenheit, the\n",
    "#temperature is in. Your program should convert the temperature to the other unit. The\n",
    "#conversions are F = 9 5 C +32 and C = 5 9 (F − 32\n",
    "temp=eval(input(\"enter the temerature:\"))\n",
    "units=input(\"enter the units (C or F):\")\n",
    "if units=='F' or units=='f':\n",
    "    c=(5/9)*(temp-32)\n",
    "    print(f\"temperature in celcius is :{c}\")\n",
    "elif unit=='C' or unit=='c':\n",
    "    f=(9/5)*(temp+32)\n",
    "    print(f\"temperature in fahrenheit is:{f}\")\n",
    "else:\n",
    "    print(\"invalid unit\")\n"
   ]
  },
  {
   "cell_type": "code",
   "execution_count": null,
   "id": "a8e07416-4153-4685-b5d8-db5f4a3a28cf",
   "metadata": {},
   "outputs": [],
   "source": [
    "#### Problem-3(Use conditional statements)\n",
    "Ask the user to enter a temperature in Celsius. The program should print a\n",
    "message based on the temperature:\n",
    "• If the temperature is less than -273.15, print that the temperature is invalid because it is\n",
    "below absolute zero.\n",
    "• If it is exactly -273.15, print that the temperature is absolute 0.\n",
    "• If the temperature is between -273.15 and 0, print that the temperature is below\n",
    "freezing. • If it is 0, print that the temperature is at the freezing point.\n",
    "• If it is between 0 and 100, print that the temperature is in the normal\n",
    "range. • If it is 100, print that the temperature is at the boiling point.\n",
    "• If it is above 100, print that the temperature is above the boiling point."
   ]
  },
  {
   "cell_type": "code",
   "execution_count": 4,
   "id": "c23f6f3f-22b1-4628-b1c4-a5c6c7eedc3e",
   "metadata": {},
   "outputs": [
    {
     "name": "stdin",
     "output_type": "stream",
     "text": [
      "enter the temerature: 50\n"
     ]
    },
    {
     "name": "stdout",
     "output_type": "stream",
     "text": [
      "temp is normal\n"
     ]
    }
   ],
   "source": [
    "temp=eval(input(\"enter the temerature:\"))\n",
    "if temp<-273.15:\n",
    "    print(\"invalid temp\")\n",
    "elif temp==-273.15:\n",
    "    print(\"temp is absolute 0\")\n",
    "elif-273.15<temp<0:\n",
    "    print(\"temp is below freezing\")\n",
    "elif temp==0:\n",
    "    print(\"temp is at the freezing\")\n",
    "elif 0<temp<100:\n",
    "    print(\"temp is normal\")\n",
    "elif temp==100:\n",
    "    print(\"temp is boilling\")\n",
    "elif temp<100:\n",
    "    print(\"temp is above boilling\")\n",
    "else:\n",
    "    print(\"invalid temp\")\n",
    "\n",
    "    \n",
    "\n"
   ]
  },
  {
   "cell_type": "code",
   "execution_count": null,
   "id": "89ee22b9-2b5c-41c3-b54c-df83445a6fac",
   "metadata": {},
   "outputs": [],
   "source": [
    "#### Problem-4(Use conditional statements)\n",
    "Write a program that asks the user how many credits they have taken. If they have taken 23 or\n",
    "less, print that the student is a freshman. If they have taken between 24 and 53, print that they\n",
    "are asophomore. The range for juniors is 54 to 83, and for seniors it is 84 and over."
   ]
  },
  {
   "cell_type": "code",
   "execution_count": 9,
   "id": "3a6d7679-a6ec-452e-a8e1-110a5e1bc421",
   "metadata": {},
   "outputs": [
    {
     "name": "stdin",
     "output_type": "stream",
     "text": [
      "enter the credits 85\n"
     ]
    },
    {
     "name": "stdout",
     "output_type": "stream",
     "text": [
      "juniors\n"
     ]
    }
   ],
   "source": [
    "credits=eval(input(\"enter the credits\"))\n",
    "if credits<=23:\n",
    "    print(\"the student is freshman\")\n",
    "elif 24<credits<53:\n",
    "    print(\" they are asophomore\")\n",
    "elif credits>=54 and credits>=83:\n",
    "    print(\"juniors\")\n",
    "elif credits>=84 and credits>=100:\n",
    "    print(\"seniors\")\n",
    "else:\n",
    "    print(\"invalid credits\")\n"
   ]
  },
  {
   "cell_type": "code",
   "execution_count": null,
   "id": "a856d0b0-6fa9-4938-bb8f-f9dfc6d15984",
   "metadata": {},
   "outputs": [],
   "source": [
    "#q 5.Generate a random number between 1 and 10. Ask the user to guess the number and print a\n",
    "message based on whether they get it right or not."
   ]
  },
  {
   "cell_type": "code",
   "execution_count": 14,
   "id": "084f85c0-30bf-4d74-b629-a0281ad5e2b0",
   "metadata": {},
   "outputs": [
    {
     "name": "stdin",
     "output_type": "stream",
     "text": [
      "enter the guess num 5\n"
     ]
    },
    {
     "name": "stdout",
     "output_type": "stream",
     "text": [
      "your right\n"
     ]
    }
   ],
   "source": [
    "import random\n",
    "num1=random.randint(1,10)\n",
    "num2=eval(input(\"enter the guess num\"))\n",
    "if num1==num2:\n",
    "    print(\"your right\")\n",
    "else:\n",
    "    print(\"your wrong\")\n",
    "    \n",
    "    \n",
    "\n",
    "    "
   ]
  },
  {
   "cell_type": "code",
   "execution_count": null,
   "id": "1962b01e-9549-4ed1-870c-b051cffd5788",
   "metadata": {},
   "outputs": [],
   "source": [
    "#### Problem-6(Use conditional statements)\n",
    "A store charges $12 per item if you buy less than 10 items. If you buy between 10\n",
    "and 99 items, the cost is $10 per item. If you buy 100 or more items, the cost is $7\n",
    "per item. Write a program that asks the user how many items they are buying and\n",
    "prints the total cost."
   ]
  },
  {
   "cell_type": "code",
   "execution_count": 3,
   "id": "942c7fcf-8378-460a-9e4d-f9f7a6e00cd7",
   "metadata": {},
   "outputs": [
    {
     "name": "stdin",
     "output_type": "stream",
     "text": [
      "enter the  items  10\n"
     ]
    },
    {
     "name": "stdout",
     "output_type": "stream",
     "text": [
      " total charges is $1120 per item\n"
     ]
    }
   ],
   "source": [
    "items=eval(input(\"enter the  items \"))\n",
    "if items>=10:\n",
    "    f1=items*12\n",
    "    print(f\" total charges is $1{f1} per item\")\n",
    "elif 10>items>99:\n",
    "    f2=items*10\n",
    "    print(f\"the cost is ${f2} per item\")\n",
    "elif 100>=101:\n",
    "    f3=items*7\n",
    "    print(f\"the cost is${f3} per item\")\n",
    "else:\n",
    "    print(f\"invalid charges , enter valid charges\")"
   ]
  },
  {
   "cell_type": "code",
   "execution_count": null,
   "id": "a83581e7-f932-4992-af75-f9ff8d173bab",
   "metadata": {},
   "outputs": [],
   "source": [
    "#### Problem-7(Use conditional statements)\n",
    "Write a program that asks the user for two numbers and prints Close if the\n",
    "numbers are within .001of each other and Not close otherwise."
   ]
  },
  {
   "cell_type": "code",
   "execution_count": 5,
   "id": "4deb5cf7-1eea-40b8-93b8-457e050e6e3b",
   "metadata": {},
   "outputs": [
    {
     "name": "stdin",
     "output_type": "stream",
     "text": [
      "Enter first number:  2\n",
      "Enter second number:  15\n"
     ]
    },
    {
     "name": "stdout",
     "output_type": "stream",
     "text": [
      "Not Close\n"
     ]
    }
   ],
   "source": [
    "a = float(input(\"Enter first number: \"))\n",
    "b = float(input(\"Enter second number: \"))\n",
    "\n",
    "d = 0\n",
    "if a > b :\n",
    "    d = a - b\n",
    "else : \n",
    "    d = b - a\n",
    "\n",
    "if d <= 0.001 :\n",
    "    print(\"Close\")\n",
    "else :\n",
    "    print(\"Not Close\")"
   ]
  },
  {
   "cell_type": "code",
   "execution_count": null,
   "id": "fd768570-46d8-45db-941e-346d959be490",
   "metadata": {},
   "outputs": [],
   "source": [
    "#### Problem-8(Use conditional statements)\n",
    "A year is a leap year if it is divisible by 4, except that years divisible by 100 are not leap years unless\n",
    "they are also divisible by 400. Write a program that asks the user for a year and prints out whether\n",
    "it is a leap year or not."
   ]
  },
  {
   "cell_type": "code",
   "execution_count": 13,
   "id": "3df555dc-e9a7-4460-956c-6528059b8421",
   "metadata": {},
   "outputs": [
    {
     "name": "stdin",
     "output_type": "stream",
     "text": [
      "enter the year 2000\n"
     ]
    },
    {
     "name": "stdout",
     "output_type": "stream",
     "text": [
      " it is a leap year is 2000\n"
     ]
    }
   ],
   "source": [
    "leap=eval(input(\"enter the year\"))\n",
    "if leap%400==0:\n",
    "    print(f\" it is a leap year is {leap}\")\n",
    "elif leap%100==0:\n",
    "    print(f\"it is  a leap year is {leap}\")\n",
    "else:\n",
    "    print(f\"it is  not a leap year{leap}\" )\n",
    "    "
   ]
  },
  {
   "cell_type": "code",
   "execution_count": null,
   "id": "fbc25f6e-e7d0-499c-9c22-e3b7be6172de",
   "metadata": {},
   "outputs": [],
   "source": [
    "#### Problem-9(Use conditional statements)\n",
    "Write a program that asks the user to enter a number and prints out all the divisors of that\n",
    "number. [Hint: the % operator is used to tell if a number is divisible by something."
   ]
  },
  {
   "cell_type": "code",
   "execution_count": 18,
   "id": "0b6a4cd9-5624-4381-9c17-dd957e74c70b",
   "metadata": {},
   "outputs": [
    {
     "name": "stdin",
     "output_type": "stream",
     "text": [
      "enter the num 24\n"
     ]
    },
    {
     "name": "stdout",
     "output_type": "stream",
     "text": [
      "24 is divisible\n"
     ]
    }
   ],
   "source": [
    "num=eval(input(\"enter the num\"))\n",
    "if num%4==0:\n",
    "    print(f\"{num} is divisible\")\n",
    "else:\n",
    "    print(f\"{num} is not divisible\")"
   ]
  },
  {
   "cell_type": "code",
   "execution_count": null,
   "id": "a24b6815-c302-4733-bd3b-aab92d29ba80",
   "metadata": {},
   "outputs": [],
   "source": [
    "#### Problem-10(Use conditional statements)\n",
    "Write a program that asks the user for an hour between 1 and 12, asks them to\n",
    "enter am or pm, and asks them how many hours into the future they want to go.\n",
    "Print out what the hour will be that many hours into the future, printing am or pm as\n",
    "appropriate. An example is shown below."
   ]
  },
  {
   "cell_type": "code",
   "execution_count": 19,
   "id": "4fe1b85b-7dc6-4b40-af66-4bd367046510",
   "metadata": {},
   "outputs": [
    {
     "ename": "SyntaxError",
     "evalue": "invalid syntax (2322501710.py, line 1)",
     "output_type": "error",
     "traceback": [
      "\u001b[1;36m  Cell \u001b[1;32mIn[19], line 1\u001b[1;36m\u001b[0m\n\u001b[1;33m    Enter hour: 8\u001b[0m\n\u001b[1;37m          ^\u001b[0m\n\u001b[1;31mSyntaxError\u001b[0m\u001b[1;31m:\u001b[0m invalid syntax\n"
     ]
    }
   ],
   "source": [
    "Enter hour: 8\n",
    "am (1) or pm (2)? 1\n",
    "How many hours ahead? 5\n",
    "New hour: 1 pm"
   ]
  },
  {
   "cell_type": "code",
   "execution_count": 21,
   "id": "6ed2d21f-5c78-4dab-af84-44d6644fa13c",
   "metadata": {},
   "outputs": [
    {
     "name": "stdin",
     "output_type": "stream",
     "text": [
      "enter the hours  12\n",
      "enter am or pm  pm\n"
     ]
    },
    {
     "ename": "NameError",
     "evalue": "name 'pm' is not defined",
     "output_type": "error",
     "traceback": [
      "\u001b[1;31m---------------------------------------------------------------------------\u001b[0m",
      "\u001b[1;31mNameError\u001b[0m                                 Traceback (most recent call last)",
      "Cell \u001b[1;32mIn[21], line 2\u001b[0m\n\u001b[0;32m      1\u001b[0m hours1\u001b[38;5;241m=\u001b[39m\u001b[38;5;28meval\u001b[39m(\u001b[38;5;28minput\u001b[39m(\u001b[38;5;124m\"\u001b[39m\u001b[38;5;124menter the hours \u001b[39m\u001b[38;5;124m\"\u001b[39m))\n\u001b[1;32m----> 2\u001b[0m hour2\u001b[38;5;241m=\u001b[39m\u001b[38;5;28meval\u001b[39m(\u001b[38;5;28minput\u001b[39m(\u001b[38;5;124m\"\u001b[39m\u001b[38;5;124menter am or pm \u001b[39m\u001b[38;5;124m\"\u001b[39m))\n\u001b[0;32m      3\u001b[0m fh\u001b[38;5;241m=\u001b[39mevel(\u001b[38;5;28minput\u001b[39m(\u001b[38;5;124m\"\u001b[39m\u001b[38;5;124menter how many hours they want to go furture\u001b[39m\u001b[38;5;124m\"\u001b[39m))\n\u001b[0;32m      4\u001b[0m \u001b[38;5;28mprint\u001b[39m(\u001b[38;5;124mf\u001b[39m\u001b[38;5;124m\"\u001b[39m\u001b[38;5;124m the hours  pm or am is:\u001b[39m\u001b[38;5;132;01m{\u001b[39;00mapproxiate\u001b[38;5;132;01m}\u001b[39;00m\u001b[38;5;124m\"\u001b[39m)\n",
      "File \u001b[1;32m<string>:1\u001b[0m\n",
      "\u001b[1;31mNameError\u001b[0m: name 'pm' is not defined"
     ]
    }
   ],
   "source": [
    "hours1=eval(input(\"enter the hours \"))\n",
    "hour2=eval(input(\"enter am or pm \"))\n",
    "fh=evel(input(\"enter how many hours they want to go furture\"))\n",
    "print(f\" the hours  pm or am is:{approxiate}\")"
   ]
  },
  {
   "cell_type": "code",
   "execution_count": null,
   "id": "8a0e2dba-4da1-422d-9427-9e1381a0bd29",
   "metadata": {},
   "outputs": [],
   "source": []
  }
 ],
 "metadata": {
  "kernelspec": {
   "display_name": "Python 3 (ipykernel)",
   "language": "python",
   "name": "python3"
  },
  "language_info": {
   "codemirror_mode": {
    "name": "ipython",
    "version": 3
   },
   "file_extension": ".py",
   "mimetype": "text/x-python",
   "name": "python",
   "nbconvert_exporter": "python",
   "pygments_lexer": "ipython3",
   "version": "3.11.7"
  }
 },
 "nbformat": 4,
 "nbformat_minor": 5
}
